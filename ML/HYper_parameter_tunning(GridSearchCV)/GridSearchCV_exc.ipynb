{
 "cells": [
  {
   "cell_type": "code",
   "execution_count": 1,
   "id": "6fdf4080",
   "metadata": {},
   "outputs": [],
   "source": [
    "import numpy as np\n",
    "import pandas as pd"
   ]
  },
  {
   "cell_type": "code",
   "execution_count": 2,
   "id": "6ac5e1b7",
   "metadata": {},
   "outputs": [],
   "source": [
    "from sklearn.datasets import load_digits"
   ]
  },
  {
   "cell_type": "code",
   "execution_count": 3,
   "id": "2745b5cd",
   "metadata": {},
   "outputs": [],
   "source": [
    "dff = load_digits()"
   ]
  },
  {
   "cell_type": "code",
   "execution_count": 4,
   "id": "d06d5493",
   "metadata": {},
   "outputs": [
    {
     "data": {
      "text/plain": [
       "['DESCR', 'data', 'feature_names', 'frame', 'images', 'target', 'target_names']"
      ]
     },
     "execution_count": 4,
     "metadata": {},
     "output_type": "execute_result"
    }
   ],
   "source": [
    "dir(dff)"
   ]
  },
  {
   "cell_type": "code",
   "execution_count": 5,
   "id": "b0de5506",
   "metadata": {},
   "outputs": [],
   "source": [
    "from sklearn.model_selection import cross_val_score"
   ]
  },
  {
   "cell_type": "code",
   "execution_count": 6,
   "id": "6a7e084d",
   "metadata": {},
   "outputs": [],
   "source": [
    "from sklearn.linear_model import LogisticRegression"
   ]
  },
  {
   "cell_type": "code",
   "execution_count": 7,
   "id": "2ec3f22e",
   "metadata": {},
   "outputs": [],
   "source": [
    "from sklearn.ensemble import RandomForestClassifier"
   ]
  },
  {
   "cell_type": "code",
   "execution_count": 8,
   "id": "652c420c",
   "metadata": {},
   "outputs": [],
   "source": [
    "from sklearn.tree import DecisionTreeClassifier"
   ]
  },
  {
   "cell_type": "code",
   "execution_count": 9,
   "id": "1e124acb",
   "metadata": {},
   "outputs": [],
   "source": [
    "from sklearn.naive_bayes import GaussianNB "
   ]
  },
  {
   "cell_type": "code",
   "execution_count": 10,
   "id": "f9146e41",
   "metadata": {},
   "outputs": [],
   "source": [
    "from sklearn.naive_bayes import MultinomialNB "
   ]
  },
  {
   "cell_type": "code",
   "execution_count": 11,
   "id": "0d4043be",
   "metadata": {},
   "outputs": [],
   "source": [
    "from sklearn.svm import SVC "
   ]
  },
  {
   "cell_type": "code",
   "execution_count": 12,
   "id": "59c2434b",
   "metadata": {},
   "outputs": [],
   "source": [
    "from sklearn.model_selection import GridSearchCV"
   ]
  },
  {
   "cell_type": "code",
   "execution_count": 13,
   "id": "667b9e46",
   "metadata": {},
   "outputs": [],
   "source": [
    "from sklearn.model_selection import RandomizedSearchCV"
   ]
  },
  {
   "cell_type": "code",
   "execution_count": 14,
   "id": "e664cd7a",
   "metadata": {},
   "outputs": [
    {
     "data": {
      "text/plain": [
       "{'mean_fit_time': array([0.03368487, 0.2968081 , 0.0272449 , 0.25588751, 0.02883091,\n",
       "        0.51822209]),\n",
       " 'std_fit_time': array([0.00285054, 0.0227873 , 0.00432124, 0.02676291, 0.00701645,\n",
       "        0.14220578]),\n",
       " 'mean_score_time': array([0.00991096, 0.08242736, 0.00585299, 0.07889824, 0.00692601,\n",
       "        0.15618405]),\n",
       " 'std_score_time': array([0.00402297, 0.00645081, 0.0024934 , 0.00698252, 0.00112625,\n",
       "        0.03460046]),\n",
       " 'param_C': masked_array(data=[1, 1, 10, 10, 20, 20],\n",
       "              mask=[False, False, False, False, False, False],\n",
       "        fill_value='?',\n",
       "             dtype=object),\n",
       " 'param_kernel': masked_array(data=['linear', 'rbf', 'linear', 'rbf', 'linear', 'rbf'],\n",
       "              mask=[False, False, False, False, False, False],\n",
       "        fill_value='?',\n",
       "             dtype=object),\n",
       " 'params': [{'C': 1, 'kernel': 'linear'},\n",
       "  {'C': 1, 'kernel': 'rbf'},\n",
       "  {'C': 10, 'kernel': 'linear'},\n",
       "  {'C': 10, 'kernel': 'rbf'},\n",
       "  {'C': 20, 'kernel': 'linear'},\n",
       "  {'C': 20, 'kernel': 'rbf'}],\n",
       " 'split0_test_score': array([0.96388889, 0.41111111, 0.96388889, 0.45277778, 0.96388889,\n",
       "        0.45277778]),\n",
       " 'split1_test_score': array([0.91944444, 0.45      , 0.91944444, 0.46944444, 0.91944444,\n",
       "        0.46944444]),\n",
       " 'split2_test_score': array([0.96657382, 0.454039  , 0.96657382, 0.47910864, 0.96657382,\n",
       "        0.47910864]),\n",
       " 'split3_test_score': array([0.9637883 , 0.44846797, 0.9637883 , 0.47910864, 0.9637883 ,\n",
       "        0.47910864]),\n",
       " 'split4_test_score': array([0.92479109, 0.47910864, 0.92479109, 0.50139276, 0.92479109,\n",
       "        0.50139276]),\n",
       " 'mean_test_score': array([0.94769731, 0.44854534, 0.94769731, 0.47636645, 0.94769731,\n",
       "        0.47636645]),\n",
       " 'std_test_score': array([0.02097775, 0.02176115, 0.02097775, 0.01578414, 0.02097775,\n",
       "        0.01578414]),\n",
       " 'rank_test_score': array([1, 6, 1, 4, 1, 4])}"
      ]
     },
     "execution_count": 14,
     "metadata": {},
     "output_type": "execute_result"
    }
   ],
   "source": [
    "a = GridSearchCV(SVC(gamma='auto'),{\n",
    "    'C' : [1,10,20],\n",
    "    'kernel' : ['linear','rbf']\n",
    "     } , cv=5)\n",
    "a.fit(dff.data,dff.target)\n",
    "a.cv_results_"
   ]
  },
  {
   "cell_type": "code",
   "execution_count": 15,
   "id": "59250979",
   "metadata": {},
   "outputs": [],
   "source": [
    " df = pd.DataFrame(a.cv_results_)"
   ]
  },
  {
   "cell_type": "code",
   "execution_count": 16,
   "id": "12d7f38a",
   "metadata": {},
   "outputs": [
    {
     "data": {
      "text/html": [
       "<div>\n",
       "<style scoped>\n",
       "    .dataframe tbody tr th:only-of-type {\n",
       "        vertical-align: middle;\n",
       "    }\n",
       "\n",
       "    .dataframe tbody tr th {\n",
       "        vertical-align: top;\n",
       "    }\n",
       "\n",
       "    .dataframe thead th {\n",
       "        text-align: right;\n",
       "    }\n",
       "</style>\n",
       "<table border=\"1\" class=\"dataframe\">\n",
       "  <thead>\n",
       "    <tr style=\"text-align: right;\">\n",
       "      <th></th>\n",
       "      <th>mean_fit_time</th>\n",
       "      <th>std_fit_time</th>\n",
       "      <th>mean_score_time</th>\n",
       "      <th>std_score_time</th>\n",
       "      <th>param_C</th>\n",
       "      <th>param_kernel</th>\n",
       "      <th>params</th>\n",
       "      <th>split0_test_score</th>\n",
       "      <th>split1_test_score</th>\n",
       "      <th>split2_test_score</th>\n",
       "      <th>split3_test_score</th>\n",
       "      <th>split4_test_score</th>\n",
       "      <th>mean_test_score</th>\n",
       "      <th>std_test_score</th>\n",
       "      <th>rank_test_score</th>\n",
       "    </tr>\n",
       "  </thead>\n",
       "  <tbody>\n",
       "    <tr>\n",
       "      <th>0</th>\n",
       "      <td>0.033685</td>\n",
       "      <td>0.002851</td>\n",
       "      <td>0.009911</td>\n",
       "      <td>0.004023</td>\n",
       "      <td>1</td>\n",
       "      <td>linear</td>\n",
       "      <td>{'C': 1, 'kernel': 'linear'}</td>\n",
       "      <td>0.963889</td>\n",
       "      <td>0.919444</td>\n",
       "      <td>0.966574</td>\n",
       "      <td>0.963788</td>\n",
       "      <td>0.924791</td>\n",
       "      <td>0.947697</td>\n",
       "      <td>0.020978</td>\n",
       "      <td>1</td>\n",
       "    </tr>\n",
       "    <tr>\n",
       "      <th>1</th>\n",
       "      <td>0.296808</td>\n",
       "      <td>0.022787</td>\n",
       "      <td>0.082427</td>\n",
       "      <td>0.006451</td>\n",
       "      <td>1</td>\n",
       "      <td>rbf</td>\n",
       "      <td>{'C': 1, 'kernel': 'rbf'}</td>\n",
       "      <td>0.411111</td>\n",
       "      <td>0.450000</td>\n",
       "      <td>0.454039</td>\n",
       "      <td>0.448468</td>\n",
       "      <td>0.479109</td>\n",
       "      <td>0.448545</td>\n",
       "      <td>0.021761</td>\n",
       "      <td>6</td>\n",
       "    </tr>\n",
       "    <tr>\n",
       "      <th>2</th>\n",
       "      <td>0.027245</td>\n",
       "      <td>0.004321</td>\n",
       "      <td>0.005853</td>\n",
       "      <td>0.002493</td>\n",
       "      <td>10</td>\n",
       "      <td>linear</td>\n",
       "      <td>{'C': 10, 'kernel': 'linear'}</td>\n",
       "      <td>0.963889</td>\n",
       "      <td>0.919444</td>\n",
       "      <td>0.966574</td>\n",
       "      <td>0.963788</td>\n",
       "      <td>0.924791</td>\n",
       "      <td>0.947697</td>\n",
       "      <td>0.020978</td>\n",
       "      <td>1</td>\n",
       "    </tr>\n",
       "    <tr>\n",
       "      <th>3</th>\n",
       "      <td>0.255888</td>\n",
       "      <td>0.026763</td>\n",
       "      <td>0.078898</td>\n",
       "      <td>0.006983</td>\n",
       "      <td>10</td>\n",
       "      <td>rbf</td>\n",
       "      <td>{'C': 10, 'kernel': 'rbf'}</td>\n",
       "      <td>0.452778</td>\n",
       "      <td>0.469444</td>\n",
       "      <td>0.479109</td>\n",
       "      <td>0.479109</td>\n",
       "      <td>0.501393</td>\n",
       "      <td>0.476366</td>\n",
       "      <td>0.015784</td>\n",
       "      <td>4</td>\n",
       "    </tr>\n",
       "    <tr>\n",
       "      <th>4</th>\n",
       "      <td>0.028831</td>\n",
       "      <td>0.007016</td>\n",
       "      <td>0.006926</td>\n",
       "      <td>0.001126</td>\n",
       "      <td>20</td>\n",
       "      <td>linear</td>\n",
       "      <td>{'C': 20, 'kernel': 'linear'}</td>\n",
       "      <td>0.963889</td>\n",
       "      <td>0.919444</td>\n",
       "      <td>0.966574</td>\n",
       "      <td>0.963788</td>\n",
       "      <td>0.924791</td>\n",
       "      <td>0.947697</td>\n",
       "      <td>0.020978</td>\n",
       "      <td>1</td>\n",
       "    </tr>\n",
       "    <tr>\n",
       "      <th>5</th>\n",
       "      <td>0.518222</td>\n",
       "      <td>0.142206</td>\n",
       "      <td>0.156184</td>\n",
       "      <td>0.034600</td>\n",
       "      <td>20</td>\n",
       "      <td>rbf</td>\n",
       "      <td>{'C': 20, 'kernel': 'rbf'}</td>\n",
       "      <td>0.452778</td>\n",
       "      <td>0.469444</td>\n",
       "      <td>0.479109</td>\n",
       "      <td>0.479109</td>\n",
       "      <td>0.501393</td>\n",
       "      <td>0.476366</td>\n",
       "      <td>0.015784</td>\n",
       "      <td>4</td>\n",
       "    </tr>\n",
       "  </tbody>\n",
       "</table>\n",
       "</div>"
      ],
      "text/plain": [
       "   mean_fit_time  std_fit_time  mean_score_time  std_score_time param_C  \\\n",
       "0       0.033685      0.002851         0.009911        0.004023       1   \n",
       "1       0.296808      0.022787         0.082427        0.006451       1   \n",
       "2       0.027245      0.004321         0.005853        0.002493      10   \n",
       "3       0.255888      0.026763         0.078898        0.006983      10   \n",
       "4       0.028831      0.007016         0.006926        0.001126      20   \n",
       "5       0.518222      0.142206         0.156184        0.034600      20   \n",
       "\n",
       "  param_kernel                         params  split0_test_score  \\\n",
       "0       linear   {'C': 1, 'kernel': 'linear'}           0.963889   \n",
       "1          rbf      {'C': 1, 'kernel': 'rbf'}           0.411111   \n",
       "2       linear  {'C': 10, 'kernel': 'linear'}           0.963889   \n",
       "3          rbf     {'C': 10, 'kernel': 'rbf'}           0.452778   \n",
       "4       linear  {'C': 20, 'kernel': 'linear'}           0.963889   \n",
       "5          rbf     {'C': 20, 'kernel': 'rbf'}           0.452778   \n",
       "\n",
       "   split1_test_score  split2_test_score  split3_test_score  split4_test_score  \\\n",
       "0           0.919444           0.966574           0.963788           0.924791   \n",
       "1           0.450000           0.454039           0.448468           0.479109   \n",
       "2           0.919444           0.966574           0.963788           0.924791   \n",
       "3           0.469444           0.479109           0.479109           0.501393   \n",
       "4           0.919444           0.966574           0.963788           0.924791   \n",
       "5           0.469444           0.479109           0.479109           0.501393   \n",
       "\n",
       "   mean_test_score  std_test_score  rank_test_score  \n",
       "0         0.947697        0.020978                1  \n",
       "1         0.448545        0.021761                6  \n",
       "2         0.947697        0.020978                1  \n",
       "3         0.476366        0.015784                4  \n",
       "4         0.947697        0.020978                1  \n",
       "5         0.476366        0.015784                4  "
      ]
     },
     "execution_count": 16,
     "metadata": {},
     "output_type": "execute_result"
    }
   ],
   "source": [
    "df"
   ]
  },
  {
   "cell_type": "code",
   "execution_count": 17,
   "id": "63043b62",
   "metadata": {},
   "outputs": [],
   "source": [
    "d = df[['param_C','param_kernel','params','mean_test_score']]"
   ]
  },
  {
   "cell_type": "code",
   "execution_count": 18,
   "id": "8fd6d705",
   "metadata": {},
   "outputs": [
    {
     "data": {
      "text/html": [
       "<div>\n",
       "<style scoped>\n",
       "    .dataframe tbody tr th:only-of-type {\n",
       "        vertical-align: middle;\n",
       "    }\n",
       "\n",
       "    .dataframe tbody tr th {\n",
       "        vertical-align: top;\n",
       "    }\n",
       "\n",
       "    .dataframe thead th {\n",
       "        text-align: right;\n",
       "    }\n",
       "</style>\n",
       "<table border=\"1\" class=\"dataframe\">\n",
       "  <thead>\n",
       "    <tr style=\"text-align: right;\">\n",
       "      <th></th>\n",
       "      <th>param_C</th>\n",
       "      <th>param_kernel</th>\n",
       "      <th>params</th>\n",
       "      <th>mean_test_score</th>\n",
       "    </tr>\n",
       "  </thead>\n",
       "  <tbody>\n",
       "    <tr>\n",
       "      <th>0</th>\n",
       "      <td>1</td>\n",
       "      <td>linear</td>\n",
       "      <td>{'C': 1, 'kernel': 'linear'}</td>\n",
       "      <td>0.947697</td>\n",
       "    </tr>\n",
       "    <tr>\n",
       "      <th>1</th>\n",
       "      <td>1</td>\n",
       "      <td>rbf</td>\n",
       "      <td>{'C': 1, 'kernel': 'rbf'}</td>\n",
       "      <td>0.448545</td>\n",
       "    </tr>\n",
       "    <tr>\n",
       "      <th>2</th>\n",
       "      <td>10</td>\n",
       "      <td>linear</td>\n",
       "      <td>{'C': 10, 'kernel': 'linear'}</td>\n",
       "      <td>0.947697</td>\n",
       "    </tr>\n",
       "    <tr>\n",
       "      <th>3</th>\n",
       "      <td>10</td>\n",
       "      <td>rbf</td>\n",
       "      <td>{'C': 10, 'kernel': 'rbf'}</td>\n",
       "      <td>0.476366</td>\n",
       "    </tr>\n",
       "    <tr>\n",
       "      <th>4</th>\n",
       "      <td>20</td>\n",
       "      <td>linear</td>\n",
       "      <td>{'C': 20, 'kernel': 'linear'}</td>\n",
       "      <td>0.947697</td>\n",
       "    </tr>\n",
       "    <tr>\n",
       "      <th>5</th>\n",
       "      <td>20</td>\n",
       "      <td>rbf</td>\n",
       "      <td>{'C': 20, 'kernel': 'rbf'}</td>\n",
       "      <td>0.476366</td>\n",
       "    </tr>\n",
       "  </tbody>\n",
       "</table>\n",
       "</div>"
      ],
      "text/plain": [
       "  param_C param_kernel                         params  mean_test_score\n",
       "0       1       linear   {'C': 1, 'kernel': 'linear'}         0.947697\n",
       "1       1          rbf      {'C': 1, 'kernel': 'rbf'}         0.448545\n",
       "2      10       linear  {'C': 10, 'kernel': 'linear'}         0.947697\n",
       "3      10          rbf     {'C': 10, 'kernel': 'rbf'}         0.476366\n",
       "4      20       linear  {'C': 20, 'kernel': 'linear'}         0.947697\n",
       "5      20          rbf     {'C': 20, 'kernel': 'rbf'}         0.476366"
      ]
     },
     "execution_count": 18,
     "metadata": {},
     "output_type": "execute_result"
    }
   ],
   "source": [
    "d"
   ]
  },
  {
   "cell_type": "code",
   "execution_count": 19,
   "id": "b5431ae0",
   "metadata": {},
   "outputs": [],
   "source": [
    "b = RandomizedSearchCV(SVC(gamma = 'auto'),{\n",
    "    'C' : [1,5,10,20,30],\n",
    "    'kernel': ['rbf','linear']\n",
    "}\n",
    "     , cv = 5 , n_iter = 2 )\n",
    "b.fit(dff.data,dff.target)\n",
    "r =b.cv_results_"
   ]
  },
  {
   "cell_type": "code",
   "execution_count": 20,
   "id": "f41efbdd",
   "metadata": {},
   "outputs": [],
   "source": [
    "rr = pd.DataFrame(b.cv_results_)"
   ]
  },
  {
   "cell_type": "code",
   "execution_count": 21,
   "id": "e54bd8ae",
   "metadata": {},
   "outputs": [
    {
     "data": {
      "text/html": [
       "<div>\n",
       "<style scoped>\n",
       "    .dataframe tbody tr th:only-of-type {\n",
       "        vertical-align: middle;\n",
       "    }\n",
       "\n",
       "    .dataframe tbody tr th {\n",
       "        vertical-align: top;\n",
       "    }\n",
       "\n",
       "    .dataframe thead th {\n",
       "        text-align: right;\n",
       "    }\n",
       "</style>\n",
       "<table border=\"1\" class=\"dataframe\">\n",
       "  <thead>\n",
       "    <tr style=\"text-align: right;\">\n",
       "      <th></th>\n",
       "      <th>param_kernel</th>\n",
       "      <th>param_C</th>\n",
       "      <th>mean_test_score</th>\n",
       "    </tr>\n",
       "  </thead>\n",
       "  <tbody>\n",
       "    <tr>\n",
       "      <th>0</th>\n",
       "      <td>rbf</td>\n",
       "      <td>1</td>\n",
       "      <td>0.448545</td>\n",
       "    </tr>\n",
       "    <tr>\n",
       "      <th>1</th>\n",
       "      <td>rbf</td>\n",
       "      <td>30</td>\n",
       "      <td>0.476366</td>\n",
       "    </tr>\n",
       "  </tbody>\n",
       "</table>\n",
       "</div>"
      ],
      "text/plain": [
       "  param_kernel param_C  mean_test_score\n",
       "0          rbf       1         0.448545\n",
       "1          rbf      30         0.476366"
      ]
     },
     "execution_count": 21,
     "metadata": {},
     "output_type": "execute_result"
    }
   ],
   "source": [
    "rr[['param_kernel','param_C','mean_test_score']]"
   ]
  },
  {
   "cell_type": "code",
   "execution_count": 22,
   "id": "7b21ea77",
   "metadata": {},
   "outputs": [],
   "source": [
    "model_params = {\n",
    "    'svm' :{\n",
    "        'model' : SVC(gamma='auto'),\n",
    "        'params'  : {'C': [1,10,20]\n",
    "                      ,'kernel': ['rbf','linear']},\n",
    "        },\n",
    "    'LG' : {\n",
    "        'model' : LogisticRegression( solver='liblinear'),\n",
    "        'params'  : { 'C' : [ 1, 5 ,10]}\n",
    "        },\n",
    "    'RFC' : {\n",
    "        'model' : RandomForestClassifier(),\n",
    "        'params'  : {'n_estimators' : [1,5,10]}\n",
    "        },\n",
    "    'tree': {\n",
    "        'model' : DecisionTreeClassifier(),\n",
    "        'params': {}\n",
    "        },\n",
    "    'GNB' : {\n",
    "        'model' : GaussianNB(),\n",
    "        'params': {}\n",
    "        },\n",
    "    'MNB' : { \n",
    "        'model' : MultinomialNB(),\n",
    "        'params'  : {}   \n",
    "        \n",
    "        }\n",
    "}\n",
    "    \n",
    "    \n",
    "    \n",
    "    "
   ]
  },
  {
   "cell_type": "code",
   "execution_count": 23,
   "id": "901d047c",
   "metadata": {},
   "outputs": [],
   "source": [
    "result = []"
   ]
  },
  {
   "cell_type": "code",
   "execution_count": 24,
   "id": "860dd464",
   "metadata": {},
   "outputs": [],
   "source": [
    "for model , mp in model_params.items():\n",
    "    abhi = GridSearchCV(mp['model'],mp['params'] , cv = 5, return_train_score=False)\n",
    "    abhi.fit(dff.data,dff.target)\n",
    "    result.append({\n",
    "        'model' : model,\n",
    "        'best_score' : abhi.best_score_,\n",
    "        'best_params' : abhi.best_params_\n",
    "    })\n",
    "    \n",
    "\n"
   ]
  },
  {
   "cell_type": "code",
   "execution_count": 25,
   "id": "acdc079a",
   "metadata": {},
   "outputs": [],
   "source": [
    "data = pd.DataFrame(result)"
   ]
  },
  {
   "cell_type": "code",
   "execution_count": 26,
   "id": "420fdc07",
   "metadata": {},
   "outputs": [
    {
     "data": {
      "text/html": [
       "<div>\n",
       "<style scoped>\n",
       "    .dataframe tbody tr th:only-of-type {\n",
       "        vertical-align: middle;\n",
       "    }\n",
       "\n",
       "    .dataframe tbody tr th {\n",
       "        vertical-align: top;\n",
       "    }\n",
       "\n",
       "    .dataframe thead th {\n",
       "        text-align: right;\n",
       "    }\n",
       "</style>\n",
       "<table border=\"1\" class=\"dataframe\">\n",
       "  <thead>\n",
       "    <tr style=\"text-align: right;\">\n",
       "      <th></th>\n",
       "      <th>model</th>\n",
       "      <th>best_score</th>\n",
       "      <th>best_params</th>\n",
       "    </tr>\n",
       "  </thead>\n",
       "  <tbody>\n",
       "    <tr>\n",
       "      <th>0</th>\n",
       "      <td>svm</td>\n",
       "      <td>0.947697</td>\n",
       "      <td>{'C': 1, 'kernel': 'linear'}</td>\n",
       "    </tr>\n",
       "    <tr>\n",
       "      <th>1</th>\n",
       "      <td>LG</td>\n",
       "      <td>0.922114</td>\n",
       "      <td>{'C': 1}</td>\n",
       "    </tr>\n",
       "    <tr>\n",
       "      <th>2</th>\n",
       "      <td>RFC</td>\n",
       "      <td>0.903211</td>\n",
       "      <td>{'n_estimators': 10}</td>\n",
       "    </tr>\n",
       "    <tr>\n",
       "      <th>3</th>\n",
       "      <td>tree</td>\n",
       "      <td>0.783019</td>\n",
       "      <td>{}</td>\n",
       "    </tr>\n",
       "    <tr>\n",
       "      <th>4</th>\n",
       "      <td>GNB</td>\n",
       "      <td>0.806928</td>\n",
       "      <td>{}</td>\n",
       "    </tr>\n",
       "    <tr>\n",
       "      <th>5</th>\n",
       "      <td>MNB</td>\n",
       "      <td>0.870350</td>\n",
       "      <td>{}</td>\n",
       "    </tr>\n",
       "  </tbody>\n",
       "</table>\n",
       "</div>"
      ],
      "text/plain": [
       "  model  best_score                   best_params\n",
       "0   svm    0.947697  {'C': 1, 'kernel': 'linear'}\n",
       "1    LG    0.922114                      {'C': 1}\n",
       "2   RFC    0.903211          {'n_estimators': 10}\n",
       "3  tree    0.783019                            {}\n",
       "4   GNB    0.806928                            {}\n",
       "5   MNB    0.870350                            {}"
      ]
     },
     "execution_count": 26,
     "metadata": {},
     "output_type": "execute_result"
    }
   ],
   "source": [
    "data"
   ]
  },
  {
   "cell_type": "code",
   "execution_count": null,
   "id": "7725cf23",
   "metadata": {},
   "outputs": [],
   "source": []
  }
 ],
 "metadata": {
  "kernelspec": {
   "display_name": "Python 3 (ipykernel)",
   "language": "python",
   "name": "python3"
  },
  "language_info": {
   "codemirror_mode": {
    "name": "ipython",
    "version": 3
   },
   "file_extension": ".py",
   "mimetype": "text/x-python",
   "name": "python",
   "nbconvert_exporter": "python",
   "pygments_lexer": "ipython3",
   "version": "3.9.7"
  }
 },
 "nbformat": 4,
 "nbformat_minor": 5
}
