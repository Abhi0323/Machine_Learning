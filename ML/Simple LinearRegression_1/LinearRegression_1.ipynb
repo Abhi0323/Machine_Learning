{
 "cells": [
  {
   "cell_type": "code",
   "execution_count": 10,
   "id": "bbd8cafb",
   "metadata": {},
   "outputs": [],
   "source": [
    "import numpy as np\n",
    "import pandas as pd\n",
    "import matplotlib.pyplot as plt\n",
    "from sklearn import linear_model"
   ]
  },
  {
   "cell_type": "code",
   "execution_count": 78,
   "id": "485f6546",
   "metadata": {},
   "outputs": [],
   "source": [
    "Data = {\"Area\":[300,400,500,600],\"Prices\":[100,125,150,200]}\n",
    "data = pd.DataFrame(Data)\n"
   ]
  },
  {
   "cell_type": "code",
   "execution_count": 15,
   "id": "cc52a52f",
   "metadata": {},
   "outputs": [
    {
     "name": "stdout",
     "output_type": "stream",
     "text": [
      "   Area  Prices\n",
      "0   300     100\n",
      "1   400     125\n",
      "2   500     150\n",
      "3   600     200\n"
     ]
    }
   ],
   "source": [
    "print(data)"
   ]
  },
  {
   "cell_type": "code",
   "execution_count": 92,
   "id": "5a0bc473",
   "metadata": {},
   "outputs": [
    {
     "data": {
      "text/plain": [
       "<matplotlib.collections.PathCollection at 0x1ca080db340>"
      ]
     },
     "execution_count": 92,
     "metadata": {},
     "output_type": "execute_result"
    },
    {
     "data": {
      "image/png": "[encoded data removed]",
      "text/plain": [
       "<Figure size 432x288 with 1 Axes>"
      ]
     },
     "metadata": {
      "needs_background": "light"
     },
     "output_type": "display_data"
    }
   ],
   "source": [
    "%matplotlib inline\n",
    "\n",
    "plt.xlabel('Prices')\n",
    "plt.ylabel(\"Area\")\n",
    "plt.scatter(data.Prices,data.Area,color='red',marker= '^')"
   ]
  },
  {
   "cell_type": "code",
   "execution_count": 95,
   "id": "41206050",
   "metadata": {},
   "outputs": [
    {
     "data": {
      "text/plain": [
       "LinearRegression()"
      ]
     },
     "execution_count": 95,
     "metadata": {},
     "output_type": "execute_result"
    }
   ],
   "source": [
    "reg = linear_model.LinearRegression()\n",
    "reg.fit(data[['Prices']],data.Area)"
   ]
  },
  {
   "cell_type": "code",
   "execution_count": null,
   "id": "f89efbf7",
   "metadata": {},
   "outputs": [],
   "source": []
  },
  {
   "cell_type": "code",
   "execution_count": 96,
   "id": "9041bb88",
   "metadata": {},
   "outputs": [
    {
     "data": {
      "text/plain": [
       "array([349.71428571, 587.42857143])"
      ]
     },
     "execution_count": 96,
     "metadata": {},
     "output_type": "execute_result"
    }
   ],
   "source": [
    "reg.predict([[110],[190]])"
   ]
  },
  {
   "cell_type": "code",
   "execution_count": 99,
   "id": "3bb17b6d",
   "metadata": {},
   "outputs": [
    {
     "name": "stdout",
     "output_type": "stream",
     "text": [
      "[2.97142857]\n"
     ]
    },
    {
     "data": {
      "text/plain": [
       "22.857142857142776"
      ]
     },
     "execution_count": 99,
     "metadata": {},
     "output_type": "execute_result"
    }
   ],
   "source": [
    "print(reg.coef_)\n",
    "reg.intercept_"
   ]
  },
  {
   "cell_type": "code",
   "execution_count": null,
   "id": "9804e0f5",
   "metadata": {},
   "outputs": [],
   "source": [
    "y= m * x + c\n",
    "reg.intercept_\n",
    "\n"
   ]
  },
  {
   "cell_type": "code",
   "execution_count": 100,
   "id": "e94d47da",
   "metadata": {},
   "outputs": [
    {
     "data": {
      "text/plain": [
       "349.7142855571428"
      ]
     },
     "execution_count": 100,
     "metadata": {},
     "output_type": "execute_result"
    }
   ],
   "source": [
    "2.97142857*110 +22.857142857142776"
   ]
  },
  {
   "cell_type": "code",
   "execution_count": null,
   "id": "b92b3f9a",
   "metadata": {},
   "outputs": [],
   "source": []
  }
 ],
 "metadata": {
  "kernelspec": {
   "display_name": "Python 3 (ipykernel)",
   "language": "python",
   "name": "python3"
  },
  "language_info": {
   "codemirror_mode": {
    "name": "ipython",
    "version": 3
   },
   "file_extension": ".py",
   "mimetype": "text/x-python",
   "name": "python",
   "nbconvert_exporter": "python",
   "pygments_lexer": "ipython3",
   "version": "3.9.7"
  }
 },
 "nbformat": 4,
 "nbformat_minor": 5
}
