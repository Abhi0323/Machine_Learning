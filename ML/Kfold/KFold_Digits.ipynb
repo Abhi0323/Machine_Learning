{
 "cells": [
  {
   "cell_type": "code",
   "execution_count": 1,
   "id": "aaecd948",
   "metadata": {},
   "outputs": [],
   "source": [
    "import numpy as np\n",
    "import pandas as pd\n",
    "from sklearn.datasets import load_digits"
   ]
  },
  {
   "cell_type": "code",
   "execution_count": 2,
   "id": "02750710",
   "metadata": {},
   "outputs": [],
   "source": [
    "data =load_digits()"
   ]
  },
  {
   "cell_type": "code",
   "execution_count": 3,
   "id": "ae8dcbe2",
   "metadata": {},
   "outputs": [
    {
     "data": {
      "text/plain": [
       "['DESCR', 'data', 'feature_names', 'frame', 'images', 'target', 'target_names']"
      ]
     },
     "execution_count": 3,
     "metadata": {},
     "output_type": "execute_result"
    }
   ],
   "source": [
    "dir(data)"
   ]
  },
  {
   "cell_type": "code",
   "execution_count": 34,
   "id": "e1ce39b4",
   "metadata": {},
   "outputs": [],
   "source": [
    "from sklearn.model_selection import train_test_split\n",
    "X_train,X_test,Y_train,Y_test=train_test_split(data.data,data.target)"
   ]
  },
  {
   "cell_type": "code",
   "execution_count": 85,
   "id": "e2cbeebb",
   "metadata": {},
   "outputs": [],
   "source": [
    "from sklearn.model_selection import KFold\n",
    "from sklearn.ensemble import RandomForestClassifier\n",
    "from sklearn.linear_model import LinearRegression\n",
    "from sklearn.linear_model import LogisticRegression\n"
   ]
  },
  {
   "cell_type": "code",
   "execution_count": 22,
   "id": "1c6c97fe",
   "metadata": {},
   "outputs": [
    {
     "data": {
      "text/plain": [
       "KFold(n_splits=3, random_state=None, shuffle=False)"
      ]
     },
     "execution_count": 22,
     "metadata": {},
     "output_type": "execute_result"
    }
   ],
   "source": [
    "kf = KFold(n_splits=3)\n",
    "kf"
   ]
  },
  {
   "cell_type": "code",
   "execution_count": 28,
   "id": "32483f12",
   "metadata": {},
   "outputs": [],
   "source": [
    "from sklearn.model_selection import StratifiedKFold"
   ]
  },
  {
   "cell_type": "code",
   "execution_count": 106,
   "id": "44efa5b4",
   "metadata": {},
   "outputs": [],
   "source": [
    "f = StratifiedKFold(n_splits=3)"
   ]
  },
  {
   "cell_type": "code",
   "execution_count": null,
   "id": "2194e0c6",
   "metadata": {},
   "outputs": [],
   "source": []
  },
  {
   "cell_type": "code",
   "execution_count": 81,
   "id": "ae7bfaff",
   "metadata": {},
   "outputs": [],
   "source": [
    "def get_scores(model,X_train,X_test,Y_train,Y_test):\n",
    "    model.fit(X_train,Y_train)\n",
    "    return model.score(X_test,Y_test)"
   ]
  },
  {
   "cell_type": "code",
   "execution_count": 92,
   "id": "e2328b81",
   "metadata": {},
   "outputs": [],
   "source": [
    "get_scores( RandomForestClassifier(),X_train,X_test,Y_train,Y_test)\n",
    "s = []\n",
    "lr = []"
   ]
  },
  {
   "cell_type": "code",
   "execution_count": 112,
   "id": "896a3f21",
   "metadata": {},
   "outputs": [],
   "source": [
    "for train_index,test_index in f.split(data.data,data.target):\n",
    "    X_train,X_test,Y_train,Y_test = data.data[train_index],data.data[test_index],data.target[train_index],data.target[test_index]\n",
    "    s.append(get_scores(RandomForestClassifier(), X_train,X_test,Y_train,Y_test))\n",
    "    lr.append(get_scores(LogisticRegression(max_iter=10000), X_train,X_test,Y_train,Y_test))"
   ]
  },
  {
   "cell_type": "code",
   "execution_count": 113,
   "id": "0f3aa47d",
   "metadata": {},
   "outputs": [
    {
     "name": "stdout",
     "output_type": "stream",
     "text": [
      "[0.9215358931552587, 0.9415692821368948, 0.9165275459098498, 0.9248747913188647, 0.9382303839732888, 0.9232053422370617, 0.9248747913188647, 0.9382303839732888, 0.9232053422370617, 0.9215358931552587, 0.9415692821368948, 0.9165275459098498, 0.9248747913188647, 0.9382303839732888, 0.9232053422370617, 0.9248747913188647, 0.9382303839732888, 0.9232053422370617]\n"
     ]
    }
   ],
   "source": [
    "\n",
    "print(lr)"
   ]
  },
  {
   "cell_type": "code",
   "execution_count": 117,
   "id": "85e7ddf2",
   "metadata": {},
   "outputs": [],
   "source": [
    "from sklearn.model_selection import cross_val_score"
   ]
  },
  {
   "cell_type": "code",
   "execution_count": 119,
   "id": "3180690c",
   "metadata": {},
   "outputs": [
    {
     "data": {
      "text/plain": [
       "array([0.925     , 0.875     , 0.93871866, 0.93593315, 0.89693593])"
      ]
     },
     "execution_count": 119,
     "metadata": {},
     "output_type": "execute_result"
    }
   ],
   "source": [
    "cross_val_score(LogisticRegression(max_iter=100000),data.data,data.target)"
   ]
  },
  {
   "cell_type": "code",
   "execution_count": 121,
   "id": "99b834cf",
   "metadata": {},
   "outputs": [
    {
     "data": {
      "text/plain": [
       "array([0.96111111, 0.94444444, 0.98328691, 0.98885794, 0.93871866])"
      ]
     },
     "execution_count": 121,
     "metadata": {},
     "output_type": "execute_result"
    }
   ],
   "source": [
    "\n",
    "from sklearn.svm import SVC\n"
   ]
  },
  {
   "cell_type": "code",
   "execution_count": 122,
   "id": "cdca63d9",
   "metadata": {},
   "outputs": [
    {
     "data": {
      "text/plain": [
       "array([0.925     , 0.925     , 0.95543175, 0.96935933, 0.93036212])"
      ]
     },
     "execution_count": 122,
     "metadata": {},
     "output_type": "execute_result"
    }
   ],
   "source": [
    "cross_val_score(RandomForestClassifier(),data.data,data.target)"
   ]
  },
  {
   "cell_type": "code",
   "execution_count": null,
   "id": "16ef671b",
   "metadata": {},
   "outputs": [],
   "source": []
  }
 ],
 "metadata": {
  "kernelspec": {
   "display_name": "Python 3 (ipykernel)",
   "language": "python",
   "name": "python3"
  },
  "language_info": {
   "codemirror_mode": {
    "name": "ipython",
    "version": 3
   },
   "file_extension": ".py",
   "mimetype": "text/x-python",
   "name": "python",
   "nbconvert_exporter": "python",
   "pygments_lexer": "ipython3",
   "version": "3.9.7"
  }
 },
 "nbformat": 4,
 "nbformat_minor": 5
}
